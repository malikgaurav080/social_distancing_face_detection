{
 "cells": [
  {
   "cell_type": "code",
   "execution_count": 1,
   "metadata": {},
   "outputs": [],
   "source": [
    "import cv2"
   ]
  },
  {
   "cell_type": "code",
   "execution_count": 8,
   "metadata": {},
   "outputs": [],
   "source": [
    "cap = cv2.VideoCapture(0)"
   ]
  },
  {
   "cell_type": "code",
   "execution_count": 9,
   "metadata": {},
   "outputs": [],
   "source": [
    "face_model = cv2.CascadeClassifier('haarcascade_frontalface_default.xml')"
   ]
  },
  {
   "cell_type": "code",
   "execution_count": null,
   "metadata": {},
   "outputs": [],
   "source": [
    "#multi face counter\n",
    "while True:\n",
    "    l=[]\n",
    "\n",
    "    status , photo = cap.read()\n",
    "\n",
    "    face_cor = face_model.detectMultiScale(photo)\n",
    "\n",
    "    if len(face_cor) == 0:\n",
    "        cv2.imshow('hi' , photo)\n",
    "        if cv2.waitKey(10) == 13:\n",
    "            break\n",
    "    else:   \n",
    "        for i in range(len(face_cor)):\n",
    "            x1  = face_cor[i][0]\n",
    "            l.append(x1)\n",
    "            y1 =face_cor[i][1]\n",
    "            x2 = x1 + face_cor[i][2]\n",
    "            y2 = y1 + face_cor[i][3]\n",
    "            cv2.rectangle(photo , (x1,  y1) , (x2, y2), [0,255,0], 3)\n",
    "        length=str(len(face_cor))\n",
    "        photo=cv2.putText(photo, \"count  \"+length,(200,70), cv2.FONT_HERSHEY_SIMPLEX, 2, (0,255,0), 12 , cv2.LINE_AA)\n",
    "    \n",
    "    if len(l)==1 or len(l)==0:\n",
    "        pass\n",
    "    elif len(l)>1:\n",
    "        for i in range(len(l)-1):\n",
    "            if l[i+1]-l[i] > 300 or l[i]-l[i+1] > 200:\n",
    "                photo=cv2.putText(photo,\"YES\",(200,170), cv2.FONT_HERSHEY_SIMPLEX, 2, (0,0,255), 12 , cv2.LINE_AA)\n",
    "                \n",
    "    cv2.imshow('hi' , photo)\n",
    "    if cv2.waitKey(10) == 13:\n",
    "        break\n",
    "                \n",
    "        \n",
    "cv2.destroyAllWindows()\n",
    "cap.release()"
   ]
  },
  {
   "cell_type": "code",
   "execution_count": 67,
   "metadata": {},
   "outputs": [],
   "source": [
    "#cv2.putText(photo, \"count \"+str(len(face_cor)),(1120,70), cv2.FONT_HERSHEY_SIMPLEX,5, (255,0,0), 12 , cv2.LINE_AA)"
   ]
  },
  {
   "cell_type": "code",
   "execution_count": 57,
   "metadata": {},
   "outputs": [
    {
     "data": {
      "text/plain": [
       "[146, 299]"
      ]
     },
     "execution_count": 57,
     "metadata": {},
     "output_type": "execute_result"
    }
   ],
   "source": []
  },
  {
   "cell_type": "code",
   "execution_count": null,
   "metadata": {},
   "outputs": [],
   "source": []
  }
 ],
 "metadata": {
  "kernelspec": {
   "display_name": "Python 3",
   "language": "python",
   "name": "python3"
  },
  "language_info": {
   "codemirror_mode": {
    "name": "ipython",
    "version": 3
   },
   "file_extension": ".py",
   "mimetype": "text/x-python",
   "name": "python",
   "nbconvert_exporter": "python",
   "pygments_lexer": "ipython3",
   "version": "3.7.6"
  }
 },
 "nbformat": 4,
 "nbformat_minor": 4
}
